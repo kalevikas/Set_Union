{
 "cells": [
  {
   "cell_type": "markdown",
   "id": "c951e914",
   "metadata": {},
   "source": [
    "# Set .union() Operation"
   ]
  },
  {
   "cell_type": "markdown",
   "id": "b8bfa96e",
   "metadata": {},
   "source": [
    "## .union()\n",
    "\n",
    "- The .union() operator returns the union of a set and the set of elements in an iterable.\n",
    "- Sometimes, the | operator is used in place of .union() operator, but it operates only on the set of elements in set.\n",
    "- Set is immutable to the .union() operation (or | operation)."
   ]
  },
  {
   "cell_type": "markdown",
   "id": "0088a246",
   "metadata": {},
   "source": [
    "## Example"
   ]
  },
  {
   "cell_type": "code",
   "execution_count": 3,
   "id": "a50b9a63",
   "metadata": {},
   "outputs": [
    {
     "name": "stdout",
     "output_type": "stream",
     "text": [
      "{'k', 'c', 'R', 'r', 'a', 'n', 'H', 'e'}\n"
     ]
    }
   ],
   "source": [
    "s = set(\"Hacker\")\n",
    "print(s.union(\"Rank\"))"
   ]
  },
  {
   "cell_type": "code",
   "execution_count": 5,
   "id": "cd4a3900",
   "metadata": {},
   "outputs": [
    {
     "name": "stdout",
     "output_type": "stream",
     "text": [
      "{'k', 'e', 'c', 'R', 'r', 'a', 'n', 'H'}\n"
     ]
    }
   ],
   "source": [
    "# set(['a', 'R', 'c', 'r', 'e', 'H', 'k', 'n'])\n",
    "s = set(\"Hacker\")\n",
    "print(s.union(set(['R', 'a', 'n', 'k'])))"
   ]
  },
  {
   "cell_type": "code",
   "execution_count": 7,
   "id": "38d6e08d",
   "metadata": {},
   "outputs": [
    {
     "name": "stdout",
     "output_type": "stream",
     "text": [
      "{'k', 'c', 'R', 'r', 'a', 'n', 'H', 'e'}\n"
     ]
    }
   ],
   "source": [
    "# set(['a', 'R', 'c', 'r', 'e', 'H', 'k', 'n'])\n",
    "\n",
    "print(s.union(['R', 'a', 'n', 'k']))"
   ]
  },
  {
   "cell_type": "code",
   "execution_count": 8,
   "id": "c0a3a66c",
   "metadata": {},
   "outputs": [
    {
     "name": "stdout",
     "output_type": "stream",
     "text": [
      "{'k', (0, 'R'), (1, 'a'), 'e', 'r', 'a', 'H', (3, 'k'), 'c', (2, 'n')}\n"
     ]
    }
   ],
   "source": [
    "# set(['a', 'R', 'c', 'r', 'e', 'H', 'k', 'n'])\n",
    "\n",
    "print(s.union(enumerate(['R', 'a', 'n', 'k'])))"
   ]
  },
  {
   "cell_type": "code",
   "execution_count": 9,
   "id": "07faed4b",
   "metadata": {},
   "outputs": [
    {
     "name": "stdout",
     "output_type": "stream",
     "text": [
      "{'k', 'c', 'r', 'a', 'H', 'Rank', 'e'}\n"
     ]
    }
   ],
   "source": [
    "# set(['a', 'c', 'r', 'e', (1, 'a'), (2, 'n'), 'H', 'k', (3, 'k'), (0, 'R')])\n",
    "s = set(\"Hacker\")\n",
    "print(s.union({\"Rank\":1}))"
   ]
  },
  {
   "cell_type": "code",
   "execution_count": 10,
   "id": "150bd58f",
   "metadata": {},
   "outputs": [
    {
     "data": {
      "text/plain": [
       "{'H', 'R', 'a', 'c', 'e', 'k', 'n', 'r'}"
      ]
     },
     "execution_count": 10,
     "metadata": {},
     "output_type": "execute_result"
    }
   ],
   "source": [
    "# set(['a', 'c', 'r', 'e', 'H', 'k', 'Rank'])\n",
    "\n",
    "s | set(\"Rank\")"
   ]
  },
  {
   "cell_type": "markdown",
   "id": "fbdb41ae",
   "metadata": {},
   "source": [
    "# Task\n",
    "- The students of District College have subscriptions to English and French newspapers. \n",
    "- Some students have subscribed only to English, some have subscribed to only French and some have subscribed to both        newspapers.\n",
    "\n",
    "- You are given two sets of student roll numbers. One set has subscribed to the English newspaper, and the other set is subscribed to the French newspaper. \n",
    "- The same student could be in both sets. Your task is to find the total number of students who have subscribed to at least one newspaper."
   ]
  },
  {
   "cell_type": "markdown",
   "id": "6267842b",
   "metadata": {},
   "source": [
    "## Input Format\n",
    "\n",
    "- The first line contains an integer, n ,the number of students who have subscribed to the English newspaper.\n",
    "- The second line contains n space separated roll numbers of those students.\n",
    "- The third line contains b, the number of students who have subscribed to the French newspaper.\n",
    "- The fourth line contains b space separated roll numbers of those students."
   ]
  },
  {
   "cell_type": "markdown",
   "id": "6965f8af",
   "metadata": {},
   "source": [
    "## Output Format\n",
    "\n",
    "- Output the total number of students who have at least one subscription."
   ]
  },
  {
   "cell_type": "code",
   "execution_count": null,
   "id": "118e52b4",
   "metadata": {},
   "outputs": [],
   "source": [
    "Sample Input\n",
    "\n",
    "9\n",
    "1 2 3 4 5 6 7 8 9\n",
    "9\n",
    "10 1 2 3 11 21 55 6 8\n",
    "\n",
    "Sample Output\n",
    "\n",
    "13"
   ]
  },
  {
   "cell_type": "markdown",
   "id": "c4ffde76",
   "metadata": {},
   "source": [
    "# Explanation\n",
    "\n",
    "- Roll numbers of students who have at least one subscription:\n",
    "- 1,2,3,4,5,6,7,8,9,10,11,21 and 55. Roll numbers:1,2,3,6 and 8 are in both sets so they are only counted once.\n",
    "- Hence, the total is 13 students."
   ]
  },
  {
   "cell_type": "code",
   "execution_count": 23,
   "id": "671a29d6",
   "metadata": {},
   "outputs": [
    {
     "name": "stdout",
     "output_type": "stream",
     "text": [
      "Enter no.of students who have subscribed to the English newspaper: 9\n",
      "1 2 3 4 5 6 7 8 9\n",
      "Enter no.of students who have subscribed to the French newspaper: 9\n",
      "10 1 2 3 11 21 55 6 8\n",
      "{1, 2, 3, 4, 5, 6, 7, 8, 9, 10, 11, 21, 55}\n",
      "13\n"
     ]
    }
   ],
   "source": [
    "n=int(input(\"Enter no.of students who have subscribed to the English newspaper: \"))\n",
    "n1=set(map(int,input().split()))\n",
    "b=int(input(\"Enter no.of students who have subscribed to the French newspaper: \"))\n",
    "b1=set(map(int,input().split()))\n",
    "\n",
    "result=n1.union(b1)\n",
    "print(result)   # now we find length of result.\n",
    "\n",
    "# length of result.\n",
    "\n",
    "count=0\n",
    "for i in result:\n",
    "    count=count+1\n",
    "print(count)\n"
   ]
  },
  {
   "cell_type": "code",
   "execution_count": 24,
   "id": "de1d34c7",
   "metadata": {},
   "outputs": [
    {
     "name": "stdout",
     "output_type": "stream",
     "text": [
      "13\n"
     ]
    }
   ],
   "source": [
    "# length of result.\n",
    "\n",
    "count=0\n",
    "for i in result:\n",
    "    count=count+1\n",
    "print(count)\n",
    "\n",
    "    "
   ]
  },
  {
   "cell_type": "code",
   "execution_count": 25,
   "id": "4254a8db",
   "metadata": {},
   "outputs": [
    {
     "name": "stdout",
     "output_type": "stream",
     "text": [
      "Enter no.of students who have subscribed to the English newspaper: 9\n",
      "1 2 3 4 5 6 7 8 9\n",
      "Enter no.of students who have subscribed to the French newspaper: 9\n",
      "10 1 2 3 11 21 55 6 8\n",
      "13\n"
     ]
    }
   ],
   "source": [
    "n=int(input(\"Enter no.of students who have subscribed to the English newspaper: \"))\n",
    "n1=set(map(int,input().split()))\n",
    "b=int(input(\"Enter no.of students who have subscribed to the French newspaper: \"))\n",
    "b1=set(map(int,input().split()))\n",
    "\n",
    "result=n1.union(b1)\n",
    "print(len(result))   # now we find length of result.\n",
    "\n",
    "# length of result.\n",
    "\n"
   ]
  },
  {
   "cell_type": "code",
   "execution_count": null,
   "id": "1a686436",
   "metadata": {},
   "outputs": [],
   "source": []
  }
 ],
 "metadata": {
  "kernelspec": {
   "display_name": "Python 3",
   "language": "python",
   "name": "python3"
  },
  "language_info": {
   "codemirror_mode": {
    "name": "ipython",
    "version": 3
   },
   "file_extension": ".py",
   "mimetype": "text/x-python",
   "name": "python",
   "nbconvert_exporter": "python",
   "pygments_lexer": "ipython3",
   "version": "3.8.8"
  }
 },
 "nbformat": 4,
 "nbformat_minor": 5
}
